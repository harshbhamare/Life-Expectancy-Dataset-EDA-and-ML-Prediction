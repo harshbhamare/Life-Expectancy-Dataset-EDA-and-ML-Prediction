{
 "cells": [
  {
   "cell_type": "code",
   "execution_count": 23,
   "id": "e0bfdd73-3469-42ba-a5b3-fba4fcff9fa4",
   "metadata": {},
   "outputs": [],
   "source": [
    "import pandas as pd\n",
    "import numpy as np\n",
    "from sklearn.compose import ColumnTransformer\n",
    "from sklearn.pipeline import Pipeline\n",
    "from sklearn.preprocessing import StandardScaler, OneHotEncoder, FunctionTransformer\n",
    "from sklearn.impute import SimpleImputer\n",
    "from sklearn.model_selection import train_test_split\n",
    "from sklearn.linear_model import LinearRegression\n",
    "from sklearn.ensemble import RandomForestRegressor\n",
    "from sklearn.metrics import mean_absolute_error, mean_squared_error, r2_score"
   ]
  },
  {
   "cell_type": "code",
   "execution_count": 8,
   "id": "cf6ede5b-2ed1-4677-800b-854901dfa30c",
   "metadata": {},
   "outputs": [],
   "source": [
    "df = pd.read_csv(\"cleaned_data.csv\")"
   ]
  },
  {
   "cell_type": "code",
   "execution_count": 9,
   "id": "3ed5fbc0-1caa-435c-a651-71a3eb7d2d48",
   "metadata": {},
   "outputs": [],
   "source": [
    "#cleaning up the column names\n",
    "df.columns = df.columns.str.strip().str.lower().str.replace(' ', '_').str.replace('-', '_')"
   ]
  },
  {
   "cell_type": "markdown",
   "id": "3d1aefed-b69f-4875-86de-502be8839bf3",
   "metadata": {},
   "source": [
    "Training the Linear Regression Model"
   ]
  },
  {
   "cell_type": "code",
   "execution_count": 10,
   "id": "29416692-7880-4051-a9ca-fe01693071da",
   "metadata": {},
   "outputs": [],
   "source": [
    "features = [\n",
    "    'status', 'gdp', 'adult_mortality', 'schooling', \n",
    "    'hiv/aids', 'income_composition_of_resources', 'bmi'\n",
    "]\n",
    "target = 'life_expectancy'\n",
    "\n",
    "# Creating x and y\n",
    "X = df[features]\n",
    "y = df[target]\n",
    "\n",
    "# Drop rows where the target is missing, as we can't use them for training\n",
    "X = X[y.notna()]\n",
    "y = y[y.notna()]"
   ]
  },
  {
   "cell_type": "code",
   "execution_count": 11,
   "id": "95fcc4a1-23ed-44a6-bf1d-f5357ea67db5",
   "metadata": {},
   "outputs": [],
   "source": [
    "# Define which columns are which type\n",
    "categorical_features = ['status']\n",
    "numerical_features = ['gdp', 'adult_mortality', 'schooling', 'hiv/aids', 'income_composition_of_resources', 'bmi']\n",
    "\n",
    "# Create a special pipeline for GDP to handle the log transformation\n",
    "gdp_pipeline = Pipeline(steps=[\n",
    "    ('imputer', SimpleImputer(strategy='median')),\n",
    "    ('log_transform', FunctionTransformer(np.log1p)), # np.log1p is safer than np.log for values near zero\n",
    "    ('scaler', StandardScaler())\n",
    "])\n",
    "\n",
    "# Create a pipeline for other numerical features\n",
    "numeric_pipeline = Pipeline(steps=[\n",
    "    ('imputer', SimpleImputer(strategy='median')),\n",
    "    ('scaler', StandardScaler())\n",
    "])\n",
    "\n",
    "# Create a pipeline for categorical features\n",
    "categorical_pipeline = Pipeline(steps=[\n",
    "    ('imputer', SimpleImputer(strategy='most_frequent')),\n",
    "    ('onehot', OneHotEncoder(handle_unknown='ignore'))\n",
    "])\n",
    "\n",
    "\n",
    "# Combine all preprocessing steps using ColumnTransformer\n",
    "preprocessor = ColumnTransformer(\n",
    "    transformers=[\n",
    "        ('gdp', gdp_pipeline, ['gdp']),\n",
    "        ('num', numeric_pipeline, [col for col in numerical_features if col != 'gdp']),\n",
    "        ('cat', categorical_pipeline, categorical_features)\n",
    "    ],\n",
    "    remainder='passthrough' # Keep other columns if any (none in our case)\n",
    ")"
   ]
  },
  {
   "cell_type": "code",
   "execution_count": 13,
   "id": "43d467f8-9061-4408-9391-a87054c6cbe2",
   "metadata": {},
   "outputs": [
    {
     "name": "stdout",
     "output_type": "stream",
     "text": [
      "Training set shape: (2350, 7)\n",
      "Testing set shape: (588, 7)\n"
     ]
    }
   ],
   "source": [
    "# Split the data\n",
    "X_train, X_test, y_train, y_test = train_test_split(X, y, test_size=0.2, random_state=42)\n",
    "\n",
    "print(f\"Training set shape: {X_train.shape}\")\n",
    "print(f\"Testing set shape: {X_test.shape}\")"
   ]
  },
  {
   "cell_type": "code",
   "execution_count": 20,
   "id": "4f9d2d2e-41c2-4873-819c-a1e009b5c5dd",
   "metadata": {},
   "outputs": [
    {
     "name": "stdout",
     "output_type": "stream",
     "text": [
      "Training the Linear Regression model...\n",
      "Training complete\n"
     ]
    }
   ],
   "source": [
    "# Create the full pipeline\n",
    "model_pipeline = Pipeline(steps=[\n",
    "    ('preprocessor', preprocessor),\n",
    "    ('regressor', LinearRegression())\n",
    "])\n",
    "\n",
    "# Train the model!\n",
    "print(\"Training the Linear Regression model...\")\n",
    "model_pipeline.fit(X_train, y_train)\n",
    "print(\"Training complete\")"
   ]
  },
  {
   "cell_type": "code",
   "execution_count": 22,
   "id": "aa33a3a4-8bb5-406d-9c51-48908d172981",
   "metadata": {},
   "outputs": [
    {
     "name": "stdout",
     "output_type": "stream",
     "text": [
      "\n",
      "Model Evaluation Results\n",
      "R-squared (R²): 0.7880\n",
      "Mean Absolute Error (MAE): 3.0892 years\n",
      "Root Mean Squared Error (RMSE): 4.2864 years\n"
     ]
    }
   ],
   "source": [
    "# Get predictions on the test set\n",
    "y_pred = model_pipeline.predict(X_test)\n",
    "\n",
    "# Calculate error metrics\n",
    "mae = mean_absolute_error(y_test, y_pred)\n",
    "rmse = np.sqrt(mean_squared_error(y_test, y_pred))\n",
    "r2 = r2_score(y_test, y_pred)\n",
    "\n",
    "print(\"\\nModel Evaluation Results\")\n",
    "print(f\"R-squared (R²): {r2:.4f}\")\n",
    "print(f\"Mean Absolute Error (MAE): {mae:.4f} years\")\n",
    "print(f\"Root Mean Squared Error (RMSE): {rmse:.4f} years\")"
   ]
  },
  {
   "cell_type": "code",
   "execution_count": null,
   "id": "6645a842-aa69-4e1a-aaa6-39834ed6de20",
   "metadata": {},
   "outputs": [],
   "source": []
  },
  {
   "cell_type": "markdown",
   "id": "5aa8bcb8-8461-41ac-9b09-1f116f1dbad1",
   "metadata": {},
   "source": [
    "\n",
    "Linear Regression has given us very good resuls (Acc to errors)\n",
    "- Now lets try another model.\n"
   ]
  },
  {
   "cell_type": "code",
   "execution_count": 24,
   "id": "e8d6b600-7352-4685-a2c8-4f920c2590b6",
   "metadata": {},
   "outputs": [],
   "source": [
    "# Create a simplified pipeline for all numerical features\n",
    "numeric_pipeline_rf = Pipeline(steps=[\n",
    "    ('imputer', SimpleImputer(strategy='median'))\n",
    "])\n",
    "\n",
    "# Create the pipeline for categorical features (this stays the same)\n",
    "categorical_pipeline_rf = Pipeline(steps=[\n",
    "    ('imputer', SimpleImputer(strategy='most_frequent')),\n",
    "    ('onehot', OneHotEncoder(handle_unknown='ignore'))\n",
    "])\n",
    "\n",
    "# Combine preprocessing steps\n",
    "preprocessor_rf = ColumnTransformer(\n",
    "    transformers=[\n",
    "        ('num', numeric_pipeline_rf, numerical_features),\n",
    "        ('cat', categorical_pipeline_rf, categorical_features)\n",
    "    ])"
   ]
  },
  {
   "cell_type": "code",
   "execution_count": 25,
   "id": "13a05df1-b4f2-437e-8d5e-cc142787be37",
   "metadata": {},
   "outputs": [
    {
     "name": "stdout",
     "output_type": "stream",
     "text": [
      "Training the Random Forest Regressor model...\n",
      "Training complete!\n"
     ]
    }
   ],
   "source": [
    "rf_model_pipeline = Pipeline(steps=[\n",
    "    ('preprocessor', preprocessor_rf),\n",
    "    ('regressor', RandomForestRegressor(n_estimators=100, random_state=42)) # n_jobs=-1 uses all available CPU cores\n",
    "])\n",
    "\n",
    "# Train the model!\n",
    "print(\"Training the Random Forest Regressor model...\")\n",
    "rf_model_pipeline.fit(X_train, y_train)\n",
    "print(\"Training complete!\")"
   ]
  },
  {
   "cell_type": "code",
   "execution_count": 26,
   "id": "349de84e-7688-4290-b82f-5a1b1b680677",
   "metadata": {},
   "outputs": [
    {
     "name": "stdout",
     "output_type": "stream",
     "text": [
      "\n",
      "--- Random Forest Evaluation Results ---\n",
      "R-squared (R²): 0.9635\n",
      "Mean Absolute Error (MAE): 1.2088 years\n",
      "Root Mean Squared Error (RMSE): 1.7780 years\n"
     ]
    }
   ],
   "source": [
    "# Get predictions\n",
    "y_pred_rf = rf_model_pipeline.predict(X_test)\n",
    "\n",
    "# Calculate error metrics\n",
    "mae_rf = mean_absolute_error(y_test, y_pred_rf)\n",
    "rmse_rf = np.sqrt(mean_squared_error(y_test, y_pred_rf))\n",
    "r2_rf = r2_score(y_test, y_pred_rf)\n",
    "\n",
    "print(\"\\n--- Random Forest Evaluation Results ---\")\n",
    "print(f\"R-squared (R²): {r2_rf:.4f}\")\n",
    "print(f\"Mean Absolute Error (MAE): {mae_rf:.4f} years\")\n",
    "print(f\"Root Mean Squared Error (RMSE): {rmse_rf:.4f} years\")"
   ]
  },
  {
   "cell_type": "code",
   "execution_count": null,
   "id": "7ffd4645-215d-446b-ac29-6ba001a881ee",
   "metadata": {},
   "outputs": [],
   "source": []
  },
  {
   "cell_type": "markdown",
   "id": "b2dbd63e-cfae-4c0e-8ed4-4576b8db852d",
   "metadata": {},
   "source": [
    "Conclusion: \n",
    "\n",
    "The Random Forest Regressor is the clear winner. \n",
    "It has dramatically reduced the prediction error (MAE) by more than half and significantly increased the R-squared value. \n",
    "This proves it was much better at understanding the complex and non-linear relationships in your dataset.\n",
    "\n",
    "Based on this, the Random Forest model is the best one to use for your predictions."
   ]
  },
  {
   "cell_type": "code",
   "execution_count": null,
   "id": "914c7067-5724-44d3-8d71-81a711afc776",
   "metadata": {},
   "outputs": [],
   "source": []
  }
 ],
 "metadata": {
  "kernelspec": {
   "display_name": "Python 3 (ipykernel)",
   "language": "python",
   "name": "python3"
  },
  "language_info": {
   "codemirror_mode": {
    "name": "ipython",
    "version": 3
   },
   "file_extension": ".py",
   "mimetype": "text/x-python",
   "name": "python",
   "nbconvert_exporter": "python",
   "pygments_lexer": "ipython3",
   "version": "3.13.5"
  }
 },
 "nbformat": 4,
 "nbformat_minor": 5
}
