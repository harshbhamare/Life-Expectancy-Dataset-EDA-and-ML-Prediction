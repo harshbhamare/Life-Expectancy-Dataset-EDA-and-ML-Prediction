import pandas as pd
import numpy as np
import matplotlib.pyplot as plt
import seaborn as sns


data = pd.read_csv("life_data.csv")


data.describe()





#checking for the data is of how many countries.
country = len(set(data["Country"]))
print(f"This dataset consists data of {country} countries.")





data.rename(columns=lambda x: x.strip().replace(' ', '_').replace('-', '_').lower(), inplace=True)
#this will replace spaces with underscore and hyphen with underscore


#checking for any null values
val = data.isnull().sum()
val





backup = data.copy()


for col in backup.columns:
    if backup[col].isnull().any() and backup[col].dtype in [np.float64, np.int64]:
        backup[col] = backup.groupby('country')[col].transform(lambda x: x.fillna(x.mean()))



backup.isnull().sum()


backup.fillna(backup.median(numeric_only=True), inplace=True)
print(backup.isnull().sum())





backup.to_csv("cleaned_data.csv", index=False)





plt.figure(figsize=(8,5))
sns.histplot(data=backup, x='life_expectancy', bins=30, kde=True, color='skyblue')
plt.title('Distribution of Life Expectancy')
plt.xlabel('Life Expectancy')
plt.ylabel('Frequency')
plt.show()





plt.figure(figsize=(8,5))
sns.boxplot(data=backup, x='status', y='life_expectancy', hue='status', palette='Set2', legend=False)
plt.title('Life Expectancy by Country Status')
plt.xlabel('Status')
plt.ylabel('Life Expectancy')
plt.show()






plt.figure(figsize=(14,10))
corr = backup.corr(numeric_only=True)
sns.heatmap(corr, annot=True, fmt=".2f", cmap='coolwarm')
plt.title('Correlation Heatmap')
plt.show()






corr_target = corr['life_expectancy'].sort_values(ascending=False)
print(corr_target)



top_corr_features = corr['life_expectancy'].abs().sort_values(ascending=False)[1:6].index
sns.pairplot(data=backup, vars=top_corr_features.tolist() + ['life_expectancy'])
plt.savefig('life_expectancy_by_status.png', dpi=300, bbox_inches='tight')
plt.show()






plt.figure(figsize=(8,5))
sns.scatterplot(data=backup, x='gdp', y='life_expectancy', hue='status')
plt.title('GDP vs Life Expectancy')
plt.show()






plt.figure(figsize=(10,6))
sns.lineplot(data=backup, x='year', y='life_expectancy', hue='status', estimator='mean', errorbar=None) 
plt.title('Trend of Life Expectancy Over the Years')
plt.grid(True) 
plt.show()












